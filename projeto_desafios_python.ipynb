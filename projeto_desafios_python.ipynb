{
  "nbformat": 4,
  "nbformat_minor": 0,
  "metadata": {
    "colab": {
      "provenance": [],
      "authorship_tag": "ABX9TyMpJv62C7BnAxnyaDDvealL",
      "include_colab_link": true
    },
    "kernelspec": {
      "name": "python3",
      "display_name": "Python 3"
    },
    "language_info": {
      "name": "python"
    }
  },
  "cells": [
    {
      "cell_type": "markdown",
      "metadata": {
        "id": "view-in-github",
        "colab_type": "text"
      },
      "source": [
        "<a href=\"https://colab.research.google.com/github/Mleandr18/python_challenges/blob/main/projeto_desafios_python.ipynb\" target=\"_parent\"><img src=\"https://colab.research.google.com/assets/colab-badge.svg\" alt=\"Open In Colab\"/></a>"
      ]
    },
    {
      "cell_type": "markdown",
      "source": [
        "Exercicios Python"
      ],
      "metadata": {
        "id": "7bk3pCjgljC9"
      }
    },
    {
      "cell_type": "code",
      "execution_count": null,
      "metadata": {
        "id": "nEyZtxOAlVtW"
      },
      "outputs": [],
      "source": [
        "# 001 - Crie um programa que escreva \"Ola Mundo\"\n",
        "nome = input('Informe seu nome\\n') # Solicitamos ao usuario um nome\n",
        "print(f'Olá mundo, {nome}!') # Utilizamos fstring aqui para formatar o retorno da função print"
      ]
    },
    {
      "cell_type": "code",
      "source": [
        "# 002 - Crie um programa que realize a soma de 2 valores inteiros\n",
        "num_1 = int(input('Informe o primeiro numero\\n')) # Solicitando o primeiro valor\n",
        "num_2 = int(input('Informe o segundo numero\\n')) # Solicitando o segundo valor\n",
        "\n",
        "def soma(num_1, num_2): # Criando uma função para realizar o calculo. Para esta função (soma) é passado 2 parâmetros (num_1 e num_2)\n",
        "  return num_1 + num_2 # Aqui é o retorno da função\n",
        "\n",
        "res = soma(num_1, num_2) # Aqui passamos como valores do parâmetro da função soma os numeros solicitados do usuário e aplicamos o calculo\n",
        "print(f'O resultado da função soma é: {res}')"
      ],
      "metadata": {
        "id": "46Lv4CKZmbcr"
      },
      "execution_count": null,
      "outputs": []
    },
    {
      "cell_type": "code",
      "source": [
        "# 003 - A partir de um numero informado pelo usuário informe o seu antecessor e sucessor\n",
        "numero = int(input('Informe o numero escolhido\\n')) # Solicitamos o numero do qual iremos querer extrair o seu antecessor e sucessor\n",
        "antecessor = numero - 1 # Criamos uma variável para armazenar o valor do antecessor\n",
        "sucessor = numero + 1 # Criamos outra variável dessa vez para armazenar o valor do sucessor\n",
        "\n",
        "print(f'O antecessor de {numero} é o numero {antecessor} e o seu sucessor é o numero {sucessor}') # fstring formatada com os valores do antecessor e sucessor"
      ],
      "metadata": {
        "id": "SyFpnWsnpIm7"
      },
      "execution_count": null,
      "outputs": []
    },
    {
      "cell_type": "code",
      "source": [
        "# 004 - Solicite um nome e print a sua escrita ao contrario\n",
        "nome = input('Informe o nome\\n')\n",
        "print(nome[::-1])"
      ],
      "metadata": {
        "id": "M31aqkFDtwwF"
      },
      "execution_count": null,
      "outputs": []
    },
    {
      "cell_type": "code",
      "source": [
        "# 005 - Verifica se a partir da soma de dois valores o seu resultado é par ou ímpar\n",
        "a = int(input('Informe o primeiro numero\\n'))\n",
        "b = int(input('Informe o segundo numero\\n'))\n",
        "\n",
        "op = (a + b) % 2\n",
        "\n",
        "if op == 0:\n",
        "  print('Par')\n",
        "else:\n",
        "  print('Impar')\n",
        "print(op)"
      ],
      "metadata": {
        "id": "5bDTBttfKP15"
      },
      "execution_count": null,
      "outputs": []
    },
    {
      "cell_type": "code",
      "source": [
        "# 006 - Gerar uma tabuada a partir de duas lista de valores\n",
        "L1 = [1, 2, 3, 4, 5, 6, 7, 8, 9]\n",
        "L2 = [1, 2, 3, 4, 5, 6, 7, 8, 9]\n",
        "\n",
        "for i in L1:\n",
        "  for x in L2:\n",
        "    calc = i * x\n",
        "    print(f'{i} x {x} = {calc}')"
      ],
      "metadata": {
        "id": "RqmDQiT2K1KV"
      },
      "execution_count": null,
      "outputs": []
    },
    {
      "cell_type": "code",
      "source": [
        "# 007 - Gerar 10 numeros aleatórios \n",
        "import random # importando a modulo random \n",
        "for i in range(10): # laço for itera por um range de 10 posições\n",
        "  print(random.randint(1,100), end=' ')"
      ],
      "metadata": {
        "colab": {
          "base_uri": "https://localhost:8080/"
        },
        "id": "Z38SXEPRLrkQ",
        "outputId": "c18ab5bb-4c34-4c88-e6c9-e73f25809830"
      },
      "execution_count": null,
      "outputs": [
        {
          "output_type": "stream",
          "name": "stdout",
          "text": [
            "6 54 49 32 11 3 12 75 90 3 "
          ]
        }
      ]
    },
    {
      "cell_type": "code",
      "source": [
        "# 008 - Calcular o valor a pagar na conta de energia com base no tipo de instalação e kwh\n",
        "\n",
        "kwh = int(input('Informe a quantidade de kwl\\n')) # Solicitado o valor do consumo de energia\n",
        "\n",
        "tipo = input('Informe o Tipo de instalação: R = Residência, C = Comercio, I = Industria\\n') # Solicitado o tipo de instalação\n",
        "\n",
        "if tipo == 'R' and kwh <= 500: # Com base no tipo de instalação é consumo é calculado o preço total a pagar\n",
        "  print(kwh * 0.40)\n",
        "elif tipo == 'R' and kwh > 500:\n",
        "  print(kwh * 0.65)\n",
        "elif tipo == 'C' and kwh <= 1000:\n",
        "  print(kwh * 0.55)\n",
        "elif tipo == 'C' and kwh > 1000:\n",
        "  print(kwh * 0.60)\n",
        "elif tipo == 'I' and kwh <= 5000:\n",
        "  print(kwh * 0.55)\n",
        "elif tipo == 'I' and kwh > 5000:\n",
        "  print(kwh * 0.60)\n",
        "else:\n",
        "  print('Informe um valor valido') # Se nenhuma informação valida for passada, será solicitado um valor valido"
      ],
      "metadata": {
        "id": "RrBIhulUOStg"
      },
      "execution_count": null,
      "outputs": []
    },
    {
      "cell_type": "code",
      "source": [
        "# 009 - Esse codigo irá verificar se todos os alunos desta sala são maiores de idade\n",
        "\n",
        "idades = [18, 20, 15, 23, 17, 13, 19, 13, 24]\n",
        "maior = []\n",
        "menor = []\n",
        "\n",
        "for idade in idades:\n",
        "  if idade > 18:\n",
        "    maior.append(idade)\n",
        "  else:\n",
        "    menor.append(idade)\n",
        "\n",
        "print(sorted(idades), len(idades))\n",
        "print(sorted(maior), len(maior))\n",
        "print(sorted(menor), len(menor))"
      ],
      "metadata": {
        "id": "LKJcVKYqP-iq",
        "colab": {
          "base_uri": "https://localhost:8080/"
        },
        "outputId": "a3186beb-bf3c-499e-a0e2-bed5fbb0def7"
      },
      "execution_count": null,
      "outputs": [
        {
          "output_type": "stream",
          "name": "stdout",
          "text": [
            "[13, 13, 15, 17, 18, 19, 20, 23, 24] 9\n",
            "[19, 20, 23, 24] 4\n",
            "[13, 13, 15, 17, 18] 5\n"
          ]
        }
      ]
    },
    {
      "cell_type": "code",
      "source": [
        "# 010 - Escrevendo uma serie fibonacci ate um determinado elemento\n",
        "\n",
        "def fib(n): # Criamos uma função que recebe um valor e calcula a sequencia Fibonacci\n",
        "  a, b = 0, 1\n",
        "  while a < n:\n",
        "    print(a, end=' ')\n",
        "    a, b = b, a + b\n",
        "  print()\n",
        "\n",
        "fib(2000)"
      ],
      "metadata": {
        "id": "hCGQ6bxvSFdj"
      },
      "execution_count": null,
      "outputs": []
    },
    {
      "cell_type": "code",
      "source": [
        "# 011 - Retornar o nome informado pelo usuário no padrão camelcase\n",
        "m = input('Insira seu nome completo para começar a brincadeira\\n')\n",
        "n = []\n",
        "for i in range(0,len(m)):\n",
        "  if i % 2 == 0:\n",
        "    n.append(m[i].lower())\n",
        "  elif i % 2 == 1:\n",
        "    n.append(m[i].upper())\n",
        "print(\" \".join(n))"
      ],
      "metadata": {
        "id": "SCE8D2ENStCI",
        "colab": {
          "base_uri": "https://localhost:8080/"
        },
        "outputId": "176e5072-f40b-4562-93d9-52867068a98f"
      },
      "execution_count": null,
      "outputs": [
        {
          "output_type": "stream",
          "name": "stdout",
          "text": [
            "Insira seu nome completo para começar a brincadeira\n",
            "Marcos Leandro\n",
            "m A r C o S   L e A n D r O\n"
          ]
        }
      ]
    },
    {
      "cell_type": "code",
      "source": [
        "# 012 - Tabuada gerada com list comprehensions\n",
        "\n",
        "for i in range(1,10):\n",
        "  print([numero * i for numero in range(1,11)])"
      ],
      "metadata": {
        "id": "Sov9sLkRVGB7"
      },
      "execution_count": null,
      "outputs": []
    },
    {
      "cell_type": "code",
      "source": [
        "# 013 - Criamos uma função que recebe um valor aleatorio entre 1 e 9. Com base nesse numero, o sistema emiter uma resposta engraçada\n",
        "def getAnswer(answerNumber):\n",
        "  if answerNumber == 1:\n",
        "    return 'It is certain'\n",
        "  elif answerNumber == 2:\n",
        "    return 'It is decidedly so'\n",
        "  elif answerNumber == 3:\n",
        "    return 'Yes'\n",
        "  elif answerNumber == 4:\n",
        "    return 'Reply hazy try again'\n",
        "  elif answerNumber == 5:\n",
        "    return 'Ask again later'\n",
        "  elif answerNumber == 6:\n",
        "    return 'Concentrate and ask again'\n",
        "  elif answerNumber == 7:\n",
        "    return 'My reply is no'\n",
        "  elif answerNumber == 8:\n",
        "    return  'Outlook not so good'\n",
        "  elif answerNumber == 9:\n",
        "    return 'Very doubtful'\n",
        "\n",
        "\n",
        "r = random.randint(1, 9)\n",
        "fortune = getAnswer(r)\n",
        "print(fortune)"
      ],
      "metadata": {
        "id": "Hh-WjMRnVnL3"
      },
      "execution_count": null,
      "outputs": []
    },
    {
      "cell_type": "code",
      "source": [
        "# 014 - Verifica repetições\n",
        "def verifica_repeticoes(lista_numeros, numero):\n",
        "\n",
        "    repeticoes = 0\n",
        "\n",
        "    for n in lista_numeros:\n",
        "        if n == numero:\n",
        "            repeticoes = repeticoes + 1\n",
        "\n",
        "    return repeticoes\n",
        "\n",
        "numeros = [1, 2, 5, 7, 8, 4, 6, 5, 4, 2, 3, 2, 1, 8, 7, 6, 4, 2, 1]\n",
        "\n",
        "num = int(input(\"Digite o número que deseja verificar: \"))\n",
        "\n",
        "num_repeticoes = verifica_repeticoes(numeros, num)\n",
        "\n",
        "print(\"O número \" + str(num) + \" aparece \" + str(num_repeticoes) + \" vez(es) na lista\")"
      ],
      "metadata": {
        "id": "5cudEiOCW6yg"
      },
      "execution_count": null,
      "outputs": []
    },
    {
      "cell_type": "code",
      "source": [
        "# 015 - Sorteia de forma aleatória um jogador\n",
        "\n",
        "\"\"\"\n",
        "  Criamos uma lista chamada selecao com os nomes dos jogadores da seleção brasileira - \n",
        "  campeã da copa de 2002\n",
        "\"\"\"\n",
        "selecao = ['Marcos','Cafú','Lúcio','Roque Junior','Edmilson','Roberto Carlos','Ricardinho','Gilberto Silva',\n",
        "'Ronaldo','Rivaldo','Ronaldinho Gaúcho','Dida','Belletti','Anderson Polga','Kléberson','Junior',\n",
        "'Denilson','Vampeta','Juninho Paulista','Edilson','Luizão','Rogério Ceni','Káka']\n",
        "\n",
        "jogadorsorteado = random.choice(selecao) # Escolhe da lista 'selecao' o nome que será testado na execução do sistema\n",
        "\n",
        "print(jogadorsorteado)\n",
        "\n",
        "# Você terá 4 chances de acerta o jogador \n",
        "\n",
        "for i in range(4):\n",
        "\n",
        "  nomeescolhido = input('Tente adivinhar o nome do jogador escolhido\\n') # Aqui o usuário deve informa o nome do jogador para testar na execução do sistema\n",
        "\n",
        "  if nomeescolhido == jogadorsorteado:\n",
        "    print('Você acertou. O nome do jogador é ' + jogadorsorteado)\n",
        "    break\n",
        "  else:\n",
        "    print('Esse não é o jogador escolhido, tente outra vez!\\n')\n",
        "print('O jogador sorteado foi ' + jogadorsorteado)"
      ],
      "metadata": {
        "id": "FHbL-jc4YAXR"
      },
      "execution_count": null,
      "outputs": []
    },
    {
      "cell_type": "code",
      "source": [
        "# 016 - Calculo do factorial\n",
        "from math import factorial # import do modulo math a função factorial\n",
        "\n",
        "n = int(input('Informe um numero para o calculo do fatorial\\n')) # Solicita um numero ao usuário para realização do calculo\n",
        "\n",
        "f = factorial(n) # Atribui o numero recebido a função factorial\n",
        "\n",
        "print(f'O fatorial de {n} é igual a {f}') # Imprime o resultado formatado"
      ],
      "metadata": {
        "id": "RsDOhYaQvhx8"
      },
      "execution_count": null,
      "outputs": []
    },
    {
      "cell_type": "code",
      "source": [
        "# 017 - Gerando uma lista de numeros aleatórios\n",
        "import random\n",
        "for i in range(8):\n",
        "  ano = str('ano')+str(i)\n",
        "  ano = [random.randint(15000,25000) for i in range(12)]\n",
        "  print(ano)"
      ],
      "metadata": {
        "id": "6NsRb_k7wmzw"
      },
      "execution_count": null,
      "outputs": []
    },
    {
      "cell_type": "code",
      "source": [
        "# 018 - Gerando um calendário \n",
        "import calendar # Importando o modulo calendar\n",
        "\n",
        "for i in range(1, 13): # Laço for iterando de 1 ate o range 13 (O 1 é inclusivo e o 13 é exclusivo). Essa parte do codigo gera os meses\n",
        "  print(calendar.month(2021, i)) # Aqui imprimimos o resultado com o calendario"
      ],
      "metadata": {
        "id": "XhlrZtyTy-8K"
      },
      "execution_count": null,
      "outputs": []
    }
  ]
}